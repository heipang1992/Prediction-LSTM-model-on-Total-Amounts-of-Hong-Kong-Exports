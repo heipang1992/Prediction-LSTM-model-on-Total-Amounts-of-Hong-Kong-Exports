{
  "cells": [
    {
      "cell_type": "code",
      "execution_count": 1,
      "metadata": {
        "id": "gTOqMdbsWOhJ"
      },
      "outputs": [],
      "source": [
        "# Description: This program uses an artificial recurrent neural network called Long Short Term Memory (LSTM)\n",
        "#              to predict the exports. Using the past 70 yeats total amount of export in HK."
      ]
    },
    {
      "cell_type": "code",
      "execution_count": 2,
      "metadata": {
        "colab": {
          "base_uri": "https://localhost:8080/"
        },
        "id": "yEhEsSBNWk8J",
        "outputId": "6c206c27-4a3f-4263-8988-d9ded52afd35"
      },
      "outputs": [
        {
          "name": "stdout",
          "output_type": "stream",
          "text": [
            "Looking in indexes: https://pypi.org/simple, https://us-python.pkg.dev/colab-wheels/public/simple/\n",
            "Requirement already satisfied: pandas-datareader in /usr/local/lib/python3.7/dist-packages (0.10.0)\n",
            "Requirement already satisfied: pandas>=0.23 in /usr/local/lib/python3.7/dist-packages (from pandas-datareader) (1.3.5)\n",
            "Requirement already satisfied: requests>=2.19.0 in /usr/local/lib/python3.7/dist-packages (from pandas-datareader) (2.23.0)\n",
            "Requirement already satisfied: lxml in /usr/local/lib/python3.7/dist-packages (from pandas-datareader) (4.9.1)\n",
            "Requirement already satisfied: numpy>=1.17.3 in /usr/local/lib/python3.7/dist-packages (from pandas>=0.23->pandas-datareader) (1.21.6)\n",
            "Requirement already satisfied: pytz>=2017.3 in /usr/local/lib/python3.7/dist-packages (from pandas>=0.23->pandas-datareader) (2022.5)\n",
            "Requirement already satisfied: python-dateutil>=2.7.3 in /usr/local/lib/python3.7/dist-packages (from pandas>=0.23->pandas-datareader) (2.8.2)\n",
            "Requirement already satisfied: six>=1.5 in /usr/local/lib/python3.7/dist-packages (from python-dateutil>=2.7.3->pandas>=0.23->pandas-datareader) (1.15.0)\n",
            "Requirement already satisfied: chardet<4,>=3.0.2 in /usr/local/lib/python3.7/dist-packages (from requests>=2.19.0->pandas-datareader) (3.0.4)\n",
            "Requirement already satisfied: idna<3,>=2.5 in /usr/local/lib/python3.7/dist-packages (from requests>=2.19.0->pandas-datareader) (2.10)\n",
            "Requirement already satisfied: certifi>=2017.4.17 in /usr/local/lib/python3.7/dist-packages (from requests>=2.19.0->pandas-datareader) (2022.9.24)\n",
            "Requirement already satisfied: urllib3!=1.25.0,!=1.25.1,<1.26,>=1.21.1 in /usr/local/lib/python3.7/dist-packages (from requests>=2.19.0->pandas-datareader) (1.24.3)\n"
          ]
        }
      ],
      "source": [
        "# Import the libraries\n",
        "!pip install --upgrade pandas-datareader\n",
        "import math\n",
        "import pandas_datareader as web\n",
        "import numpy as np\n",
        "import pandas as pd\n",
        "from sklearn.preprocessing import MinMaxScaler\n",
        "from keras.models import Sequential\n",
        "from keras.layers import Dense, LSTM\n",
        "import matplotlib.pyplot as plt\n",
        "plt.style.use('fivethirtyeight')"
      ]
    },
    {
      "cell_type": "code",
      "execution_count": 3,
      "metadata": {
        "colab": {
          "base_uri": "https://localhost:8080/",
          "height": 522
        },
        "id": "F_sslBm2XL3Q",
        "outputId": "b300f47e-5d78-4298-8d9a-ffdaba105b68"
      },
      "outputs": [
        {
          "name": "stdout",
          "output_type": "stream",
          "text": [
            "Drive already mounted at /content/drive; to attempt to forcibly remount, call drive.mount(\"/content/drive\", force_remount=True).\n"
          ]
        },
        {
          "data": {
            "text/html": [
              "\n",
              "  <div id=\"df-7b9ab097-c231-448b-93f5-37c922e4cf48\">\n",
              "    <div class=\"colab-df-container\">\n",
              "      <div>\n",
              "<style scoped>\n",
              "    .dataframe tbody tr th:only-of-type {\n",
              "        vertical-align: middle;\n",
              "    }\n",
              "\n",
              "    .dataframe tbody tr th {\n",
              "        vertical-align: top;\n",
              "    }\n",
              "\n",
              "    .dataframe thead th {\n",
              "        text-align: right;\n",
              "    }\n",
              "</style>\n",
              "<table border=\"1\" class=\"dataframe\">\n",
              "  <thead>\n",
              "    <tr style=\"text-align: right;\">\n",
              "      <th></th>\n",
              "      <th>Year</th>\n",
              "      <th>Imports</th>\n",
              "      <th>TotalExports</th>\n",
              "      <th>Imports.1</th>\n",
              "      <th>Total Exports</th>\n",
              "      <th>Total Trade</th>\n",
              "      <th>Merchandise trade balance</th>\n",
              "    </tr>\n",
              "  </thead>\n",
              "  <tbody>\n",
              "    <tr>\n",
              "      <th>0</th>\n",
              "      <td>1952</td>\n",
              "      <td>3779</td>\n",
              "      <td>2899</td>\n",
              "      <td>N.A.</td>\n",
              "      <td>N.A.</td>\n",
              "      <td>6678</td>\n",
              "      <td>-880</td>\n",
              "    </tr>\n",
              "    <tr>\n",
              "      <th>1</th>\n",
              "      <td>1953</td>\n",
              "      <td>3873</td>\n",
              "      <td>2734</td>\n",
              "      <td>2.5</td>\n",
              "      <td>-5.7</td>\n",
              "      <td>6606</td>\n",
              "      <td>-1139</td>\n",
              "    </tr>\n",
              "    <tr>\n",
              "      <th>2</th>\n",
              "      <td>1954</td>\n",
              "      <td>3435</td>\n",
              "      <td>2417</td>\n",
              "      <td>-11.3</td>\n",
              "      <td>-11.6</td>\n",
              "      <td>5852</td>\n",
              "      <td>-1018</td>\n",
              "    </tr>\n",
              "    <tr>\n",
              "      <th>3</th>\n",
              "      <td>1955</td>\n",
              "      <td>3719</td>\n",
              "      <td>2534</td>\n",
              "      <td>8.3</td>\n",
              "      <td>4.8</td>\n",
              "      <td>6253</td>\n",
              "      <td>-1185</td>\n",
              "    </tr>\n",
              "    <tr>\n",
              "      <th>4</th>\n",
              "      <td>1956</td>\n",
              "      <td>4566</td>\n",
              "      <td>3210</td>\n",
              "      <td>22.8</td>\n",
              "      <td>26.7</td>\n",
              "      <td>7776</td>\n",
              "      <td>-1357</td>\n",
              "    </tr>\n",
              "    <tr>\n",
              "      <th>...</th>\n",
              "      <td>...</td>\n",
              "      <td>...</td>\n",
              "      <td>...</td>\n",
              "      <td>...</td>\n",
              "      <td>...</td>\n",
              "      <td>...</td>\n",
              "      <td>...</td>\n",
              "    </tr>\n",
              "    <tr>\n",
              "      <th>65</th>\n",
              "      <td>2017</td>\n",
              "      <td>4357004</td>\n",
              "      <td>3875898</td>\n",
              "      <td>8.7</td>\n",
              "      <td>8</td>\n",
              "      <td>8232902</td>\n",
              "      <td>-481106</td>\n",
              "    </tr>\n",
              "    <tr>\n",
              "      <th>66</th>\n",
              "      <td>2018</td>\n",
              "      <td>4721399</td>\n",
              "      <td>4158106</td>\n",
              "      <td>8.4</td>\n",
              "      <td>7.3</td>\n",
              "      <td>8879505</td>\n",
              "      <td>-563292</td>\n",
              "    </tr>\n",
              "    <tr>\n",
              "      <th>67</th>\n",
              "      <td>2019</td>\n",
              "      <td>4415440</td>\n",
              "      <td>3988685</td>\n",
              "      <td>-6.5</td>\n",
              "      <td>-4.1</td>\n",
              "      <td>8404126</td>\n",
              "      <td>-426755</td>\n",
              "    </tr>\n",
              "    <tr>\n",
              "      <th>68</th>\n",
              "      <td>2020</td>\n",
              "      <td>4269752</td>\n",
              "      <td>3927517</td>\n",
              "      <td>-3.3</td>\n",
              "      <td>-1.5</td>\n",
              "      <td>8197270</td>\n",
              "      <td>-342235</td>\n",
              "    </tr>\n",
              "    <tr>\n",
              "      <th>69</th>\n",
              "      <td>2021</td>\n",
              "      <td>5307792</td>\n",
              "      <td>4960656</td>\n",
              "      <td>24.3</td>\n",
              "      <td>26.3</td>\n",
              "      <td>10268448</td>\n",
              "      <td>-347136</td>\n",
              "    </tr>\n",
              "  </tbody>\n",
              "</table>\n",
              "<p>70 rows × 7 columns</p>\n",
              "</div>\n",
              "      <button class=\"colab-df-convert\" onclick=\"convertToInteractive('df-7b9ab097-c231-448b-93f5-37c922e4cf48')\"\n",
              "              title=\"Convert this dataframe to an interactive table.\"\n",
              "              style=\"display:none;\">\n",
              "        \n",
              "  <svg xmlns=\"http://www.w3.org/2000/svg\" height=\"24px\"viewBox=\"0 0 24 24\"\n",
              "       width=\"24px\">\n",
              "    <path d=\"M0 0h24v24H0V0z\" fill=\"none\"/>\n",
              "    <path d=\"M18.56 5.44l.94 2.06.94-2.06 2.06-.94-2.06-.94-.94-2.06-.94 2.06-2.06.94zm-11 1L8.5 8.5l.94-2.06 2.06-.94-2.06-.94L8.5 2.5l-.94 2.06-2.06.94zm10 10l.94 2.06.94-2.06 2.06-.94-2.06-.94-.94-2.06-.94 2.06-2.06.94z\"/><path d=\"M17.41 7.96l-1.37-1.37c-.4-.4-.92-.59-1.43-.59-.52 0-1.04.2-1.43.59L10.3 9.45l-7.72 7.72c-.78.78-.78 2.05 0 2.83L4 21.41c.39.39.9.59 1.41.59.51 0 1.02-.2 1.41-.59l7.78-7.78 2.81-2.81c.8-.78.8-2.07 0-2.86zM5.41 20L4 18.59l7.72-7.72 1.47 1.35L5.41 20z\"/>\n",
              "  </svg>\n",
              "      </button>\n",
              "      \n",
              "  <style>\n",
              "    .colab-df-container {\n",
              "      display:flex;\n",
              "      flex-wrap:wrap;\n",
              "      gap: 12px;\n",
              "    }\n",
              "\n",
              "    .colab-df-convert {\n",
              "      background-color: #E8F0FE;\n",
              "      border: none;\n",
              "      border-radius: 50%;\n",
              "      cursor: pointer;\n",
              "      display: none;\n",
              "      fill: #1967D2;\n",
              "      height: 32px;\n",
              "      padding: 0 0 0 0;\n",
              "      width: 32px;\n",
              "    }\n",
              "\n",
              "    .colab-df-convert:hover {\n",
              "      background-color: #E2EBFA;\n",
              "      box-shadow: 0px 1px 2px rgba(60, 64, 67, 0.3), 0px 1px 3px 1px rgba(60, 64, 67, 0.15);\n",
              "      fill: #174EA6;\n",
              "    }\n",
              "\n",
              "    [theme=dark] .colab-df-convert {\n",
              "      background-color: #3B4455;\n",
              "      fill: #D2E3FC;\n",
              "    }\n",
              "\n",
              "    [theme=dark] .colab-df-convert:hover {\n",
              "      background-color: #434B5C;\n",
              "      box-shadow: 0px 1px 3px 1px rgba(0, 0, 0, 0.15);\n",
              "      filter: drop-shadow(0px 1px 2px rgba(0, 0, 0, 0.3));\n",
              "      fill: #FFFFFF;\n",
              "    }\n",
              "  </style>\n",
              "\n",
              "      <script>\n",
              "        const buttonEl =\n",
              "          document.querySelector('#df-7b9ab097-c231-448b-93f5-37c922e4cf48 button.colab-df-convert');\n",
              "        buttonEl.style.display =\n",
              "          google.colab.kernel.accessAllowed ? 'block' : 'none';\n",
              "\n",
              "        async function convertToInteractive(key) {\n",
              "          const element = document.querySelector('#df-7b9ab097-c231-448b-93f5-37c922e4cf48');\n",
              "          const dataTable =\n",
              "            await google.colab.kernel.invokeFunction('convertToInteractive',\n",
              "                                                     [key], {});\n",
              "          if (!dataTable) return;\n",
              "\n",
              "          const docLinkHtml = 'Like what you see? Visit the ' +\n",
              "            '<a target=\"_blank\" href=https://colab.research.google.com/notebooks/data_table.ipynb>data table notebook</a>'\n",
              "            + ' to learn more about interactive tables.';\n",
              "          element.innerHTML = '';\n",
              "          dataTable['output_type'] = 'display_data';\n",
              "          await google.colab.output.renderOutput(dataTable, element);\n",
              "          const docLink = document.createElement('div');\n",
              "          docLink.innerHTML = docLinkHtml;\n",
              "          element.appendChild(docLink);\n",
              "        }\n",
              "      </script>\n",
              "    </div>\n",
              "  </div>\n",
              "  "
            ],
            "text/plain": [
              "    Year  Imports  TotalExports Imports.1 Total Exports  Total Trade  \\\n",
              "0   1952     3779          2899      N.A.          N.A.         6678   \n",
              "1   1953     3873          2734       2.5          -5.7         6606   \n",
              "2   1954     3435          2417     -11.3         -11.6         5852   \n",
              "3   1955     3719          2534       8.3           4.8         6253   \n",
              "4   1956     4566          3210      22.8          26.7         7776   \n",
              "..   ...      ...           ...       ...           ...          ...   \n",
              "65  2017  4357004       3875898       8.7             8      8232902   \n",
              "66  2018  4721399       4158106       8.4           7.3      8879505   \n",
              "67  2019  4415440       3988685      -6.5          -4.1      8404126   \n",
              "68  2020  4269752       3927517      -3.3          -1.5      8197270   \n",
              "69  2021  5307792       4960656      24.3          26.3     10268448   \n",
              "\n",
              "    Merchandise trade balance  \n",
              "0                        -880  \n",
              "1                       -1139  \n",
              "2                       -1018  \n",
              "3                       -1185  \n",
              "4                       -1357  \n",
              "..                        ...  \n",
              "65                    -481106  \n",
              "66                    -563292  \n",
              "67                    -426755  \n",
              "68                    -342235  \n",
              "69                    -347136  \n",
              "\n",
              "[70 rows x 7 columns]"
            ]
          },
          "execution_count": 3,
          "metadata": {},
          "output_type": "execute_result"
        }
      ],
      "source": [
        "from google.colab import drive\n",
        "drive.mount('/content/drive')\n",
        "df = pd.read_excel('Trade_Figures.xlsx')\n",
        "# Get the export amont \n",
        "#df = web.DataReader('AAPL', data_source='yahoo', start='2012-01-01', end='2019-12-17')\n",
        "# Show the data\n",
        "df"
      ]
    },
    {
      "cell_type": "code",
      "execution_count": 4,
      "metadata": {
        "colab": {
          "base_uri": "https://localhost:8080/"
        },
        "id": "jr58CAFIajLR",
        "outputId": "8c8d3db5-18d7-4046-9d20-080d34f7537d"
      },
      "outputs": [
        {
          "data": {
            "text/plain": [
              "(70, 7)"
            ]
          },
          "execution_count": 4,
          "metadata": {},
          "output_type": "execute_result"
        }
      ],
      "source": [
        "# Get the number of rows and columns in the data set\n",
        "\n",
        "df.shape"
      ]
    },
    {
      "cell_type": "code",
      "execution_count": 5,
      "metadata": {
        "colab": {
          "base_uri": "https://localhost:8080/",
          "height": 349
        },
        "id": "V0lXVFxnakg2",
        "outputId": "b7daa293-6af2-4626-a36c-1d0e5b659ba1"
      },
      "outputs": [
        {
          "data": {
            "image/png": "[encoded data removed]",
            "text/plain": [
              "<Figure size 1152x576 with 1 Axes>"
            ]
          },
          "metadata": {},
          "output_type": "display_data"
        }
      ],
      "source": [
        "# Visualize the total exports history\n",
        "plt.figure(figsize=(16,8))\n",
        "plt.title('Total Exports of Hong Kong')\n",
        "plt.plot(df['TotalExports'])\n",
        "plt.xlabel('Year', fontsize=18)\n",
        "plt.ylabel('Total Exports in HK (millions)', fontsize=18)\n",
        "plt.show()"
      ]
    },
    {
      "cell_type": "code",
      "execution_count": 6,
      "metadata": {
        "colab": {
          "base_uri": "https://localhost:8080/"
        },
        "id": "_Ma1eCnvakV8",
        "outputId": "ef31f588-679b-4eea-f64a-025e57dccc21"
      },
      "outputs": [
        {
          "data": {
            "text/plain": [
              "56"
            ]
          },
          "execution_count": 6,
          "metadata": {},
          "output_type": "execute_result"
        }
      ],
      "source": [
        "# Create a new dataframe with only the 'Close Column'\n",
        "data = df.filter(['TotalExports'])\n",
        "# Convert the dataframe to a numpy array\n",
        "dataset = data.values\n",
        "# get the 80% of rows to train the model \n",
        "# math.ceil = round up\n",
        "training_data_len = math.ceil( len(dataset)*.8)\n",
        "\n",
        "training_data_len"
      ]
    },
    {
      "cell_type": "code",
      "execution_count": 7,
      "metadata": {
        "colab": {
          "base_uri": "https://localhost:8080/"
        },
        "id": "gUdsMV57bO56",
        "outputId": "901184b4-9da7-4b86-e5b3-07aad8b50b08"
      },
      "outputs": [
        {
          "data": {
            "text/plain": [
              "array([[9.72119335e-05],\n",
              "       [6.39339895e-05],\n",
              "       [0.00000000e+00],\n",
              "       [2.35970876e-05],\n",
              "       [1.59935816e-04],\n",
              "       [1.20809021e-04],\n",
              "       [1.15363539e-04],\n",
              "       [1.73650363e-04],\n",
              "       [3.06762139e-04],\n",
              "       [3.05148663e-04],\n",
              "       [3.97318483e-04],\n",
              "       [5.19135927e-04],\n",
              "       [6.79071743e-04],\n",
              "       [8.29528387e-04],\n",
              "       [1.03786849e-03],\n",
              "       [1.28352022e-03],\n",
              "       [1.64433380e-03],\n",
              "       [2.17415901e-03],\n",
              "       [2.58579709e-03],\n",
              "       [2.97424146e-03],\n",
              "       [3.42520802e-03],\n",
              "       [4.75612410e-03],\n",
              "       [5.57032446e-03],\n",
              "       [5.52918082e-03],\n",
              "       [7.89393170e-03],\n",
              "       [8.55465015e-03],\n",
              "       [1.03849371e-02],\n",
              "       [1.48272401e-02],\n",
              "       [1.93264181e-02],\n",
              "       [2.41509133e-02],\n",
              "       [2.52041098e-02],\n",
              "       [3.19230275e-02],\n",
              "       [4.41737480e-02],\n",
              "       [4.69390443e-02],\n",
              "       [5.52843459e-02],\n",
              "       [7.57561304e-02],\n",
              "       [9.89569079e-02],\n",
              "       [1.14575356e-01],\n",
              "       [1.28565202e-01],\n",
              "       [1.53979871e-01],\n",
              "       [1.86061221e-01],\n",
              "       [2.10524946e-01],\n",
              "       [2.35486026e-01],\n",
              "       [2.70602123e-01],\n",
              "       [2.81450733e-01],\n",
              "       [2.93154888e-01],\n",
              "       [2.71312456e-01],\n",
              "       [2.71584932e-01],\n",
              "       [3.16699538e-01],\n",
              "       [2.98204665e-01],\n",
              "       [3.14244634e-01],\n",
              "       [3.50934878e-01],\n",
              "       [4.06736545e-01],\n",
              "       [4.53337768e-01],\n",
              "       [4.95863552e-01],\n",
              "       [5.41542269e-01],\n",
              "       [5.69100037e-01],\n",
              "       [4.97489532e-01],\n",
              "       [6.10822108e-01],\n",
              "       [6.72584762e-01],\n",
              "       [6.92166917e-01],\n",
              "       [7.17446053e-01],\n",
              "       [7.40249512e-01],\n",
              "       [7.26641455e-01],\n",
              "       [7.23206364e-01],\n",
              "       [7.81221115e-01],\n",
              "       [8.38138097e-01],\n",
              "       [8.03968506e-01],\n",
              "       [7.91631868e-01],\n",
              "       [1.00000000e+00]])"
            ]
          },
          "execution_count": 7,
          "metadata": {},
          "output_type": "execute_result"
        }
      ],
      "source": [
        "# Scale the data\n",
        "# A good pratice before making the model is Scaling\n",
        "\n",
        "scaler = MinMaxScaler(feature_range=(0,1))\n",
        "scaled_data =scaler.fit_transform(dataset)\n",
        "\n",
        "scaled_data"
      ]
    },
    {
      "cell_type": "code",
      "execution_count": 8,
      "metadata": {
        "colab": {
          "base_uri": "https://localhost:8080/"
        },
        "id": "F_4SHeBLbOwg",
        "outputId": "2841b924-4979-4066-c698-0d7c8b886274"
      },
      "outputs": [
        {
          "name": "stdout",
          "output_type": "stream",
          "text": [
            "[array([9.72119335e-05, 6.39339895e-05, 0.00000000e+00, 2.35970876e-05,\n",
            "       1.59935816e-04, 1.20809021e-04, 1.15363539e-04, 1.73650363e-04,\n",
            "       3.06762139e-04, 3.05148663e-04, 3.97318483e-04, 5.19135927e-04,\n",
            "       6.79071743e-04, 8.29528387e-04, 1.03786849e-03, 1.28352022e-03,\n",
            "       1.64433380e-03, 2.17415901e-03, 2.58579709e-03, 2.97424146e-03,\n",
            "       3.42520802e-03, 4.75612410e-03, 5.57032446e-03])]\n",
            "[0.005529180824078872]\n",
            "\n"
          ]
        }
      ],
      "source": [
        "# Create the training data set\n",
        "# Create the scaled training data set\n",
        "train_data = scaled_data[0:training_data_len , :]\n",
        "# Split the data into x_train and y_train data sets\n",
        "x_train = []\n",
        "y_train = []\n",
        "\n",
        "for i in range(23, len(train_data)):\n",
        "    x_train.append(train_data[i-23:i, 0])\n",
        "    y_train.append(train_data[i, 0])\n",
        "    if i <= 23:\n",
        "      print(x_train)\n",
        "      print(y_train)\n",
        "      print()"
      ]
    },
    {
      "cell_type": "code",
      "execution_count": 9,
      "metadata": {
        "id": "VCPa1_4-bOtK"
      },
      "outputs": [],
      "source": [
        "# Convert the x_train and y_train to numpy arrays\n",
        "x_train, y_train = np.array(x_train), np.array(y_train)"
      ]
    },
    {
      "cell_type": "code",
      "execution_count": 10,
      "metadata": {
        "colab": {
          "base_uri": "https://localhost:8080/"
        },
        "id": "XPLAtof5bOqm",
        "outputId": "55963a7f-2fe7-4f7a-8803-b98c2b041505"
      },
      "outputs": [
        {
          "data": {
            "text/plain": [
              "(33, 23, 1)"
            ]
          },
          "execution_count": 10,
          "metadata": {},
          "output_type": "execute_result"
        }
      ],
      "source": [
        "# Reshape the data\n",
        "x_train = np.reshape(x_train, (x_train.shape[0], x_train.shape[1], 1))\n",
        "x_train.shape"
      ]
    },
    {
      "cell_type": "code",
      "execution_count": 11,
      "metadata": {
        "id": "_XJAuK1LbOn1"
      },
      "outputs": [],
      "source": [
        "# Build the LSTM model\n",
        "model = Sequential()\n",
        "model.add(LSTM(53, return_sequences=True, input_shape = (x_train.shape[1], 1)))\n",
        "model.add(LSTM(53, return_sequences= False))\n",
        "model.add(Dense(23))\n",
        "model.add(Dense(1))"
      ]
    },
    {
      "cell_type": "code",
      "execution_count": 12,
      "metadata": {
        "id": "v9PNKCS0akS0"
      },
      "outputs": [],
      "source": [
        "# Compile the model\n",
        "model.compile(optimizer = 'adam', loss = 'mean_squared_error')"
      ]
    },
    {
      "cell_type": "code",
      "execution_count": 13,
      "metadata": {
        "colab": {
          "base_uri": "https://localhost:8080/"
        },
        "id": "rJN6Wm9LakP1",
        "outputId": "efae9853-94d6-431c-e57b-f65e04c7448f"
      },
      "outputs": [
        {
          "name": "stdout",
          "output_type": "stream",
          "text": [
            "33/33 [==============================] - 4s 23ms/step - loss: 0.0129\n"
          ]
        },
        {
          "data": {
            "text/plain": [
              "<keras.callbacks.History at 0x7f8c6e4fd490>"
            ]
          },
          "execution_count": 13,
          "metadata": {},
          "output_type": "execute_result"
        }
      ],
      "source": [
        "# Train the model\n",
        "model.fit(x_train, y_train, batch_size=1, epochs=1)"
      ]
    },
    {
      "cell_type": "code",
      "execution_count": 18,
      "metadata": {
        "id": "hNQWaZX-akNP"
      },
      "outputs": [],
      "source": [
        "# Create the testing data set\n",
        "# Create a new array containing scaled values from index 49 to 72\n",
        "test_data = scaled_data[training_data_len - 23: , :]\n",
        "# Create the data sets x_test and y_test\n",
        "x_test = []\n",
        "y_test = dataset[training_data_len:, :]\n",
        "for i in range(23, len(test_data)):\n",
        "  x_test.append(test_data[i-23:i, 0])\n"
      ]
    },
    {
      "cell_type": "code",
      "execution_count": 19,
      "metadata": {
        "id": "WHwOWQ7lgXAu"
      },
      "outputs": [],
      "source": [
        "# Convert the data to a numpy array\n",
        "x_test = np.array(x_test)"
      ]
    },
    {
      "cell_type": "code",
      "execution_count": 21,
      "metadata": {
        "id": "wHg62NeTgW6n"
      },
      "outputs": [],
      "source": [
        "# Reshape the data\n",
        "x_test = np.reshape(x_test, (x_test.shape[0],23, 1))"
      ]
    },
    {
      "cell_type": "code",
      "execution_count": 22,
      "metadata": {
        "colab": {
          "base_uri": "https://localhost:8080/"
        },
        "id": "lr74MdpAhE1c",
        "outputId": "ebbb9792-8825-4858-83ac-effaa09d23a1"
      },
      "outputs": [
        {
          "name": "stdout",
          "output_type": "stream",
          "text": [
            "1/1 [==============================] - 1s 875ms/step\n"
          ]
        }
      ],
      "source": [
        "# Get the models predicted price values\n",
        "predictions = model.predict(x_test)\n",
        "predictions = scaler.inverse_transform(predictions)"
      ]
    },
    {
      "cell_type": "code",
      "execution_count": 23,
      "metadata": {
        "colab": {
          "base_uri": "https://localhost:8080/"
        },
        "id": "GH6mPNsBhEyE",
        "outputId": "e83eaf2a-c50e-42e5-a3ad-5fb272669d4f"
      },
      "outputs": [
        {
          "data": {
            "text/plain": [
              "869468.25"
            ]
          },
          "execution_count": 23,
          "metadata": {},
          "output_type": "execute_result"
        }
      ],
      "source": [
        "# Get the root mean squared error (RMSE)\n",
        "rmse = np.sqrt( np.mean( predictions - y_test)**2)\n",
        "rmse"
      ]
    },
    {
      "cell_type": "code",
      "execution_count": 24,
      "metadata": {
        "colab": {
          "base_uri": "https://localhost:8080/",
          "height": 473
        },
        "id": "pHEk96NqhEvL",
        "outputId": "2283f766-5f4e-4d70-c3a4-93463d22afd8"
      },
      "outputs": [
        {
          "name": "stderr",
          "output_type": "stream",
          "text": [
            "/usr/local/lib/python3.7/dist-packages/ipykernel_launcher.py:4: SettingWithCopyWarning: \n",
            "A value is trying to be set on a copy of a slice from a DataFrame.\n",
            "Try using .loc[row_indexer,col_indexer] = value instead\n",
            "\n",
            "See the caveats in the documentation: https://pandas.pydata.org/pandas-docs/stable/user_guide/indexing.html#returning-a-view-versus-a-copy\n",
            "  after removing the cwd from sys.path.\n"
          ]
        },
        {
          "data": {
            "image/png": "[encoded data removed]",
            "text/plain": [
              "<Figure size 1152x576 with 1 Axes>"
            ]
          },
          "metadata": {},
          "output_type": "display_data"
        }
      ],
      "source": [
        "# Plot the data\n",
        "train = data[:training_data_len]\n",
        "valid = data[training_data_len:]\n",
        "valid['Predictions'] = predictions\n",
        "# Visulize the data\n",
        "plt.figure(figsize=(16,8))\n",
        "plt.title('Model')\n",
        "plt.xlabel('Date', fontsize=18)\n",
        "plt.ylabel('Close Price USD ($)', fontsize=18)\n",
        "plt.plot(train['TotalExports'])\n",
        "plt.plot(valid[['TotalExports', 'Predictions']])\n",
        "plt.legend(['Train', 'Val', 'Predictions'], loc='lower right')\n",
        "plt.show()\n"
      ]
    },
    {
      "cell_type": "code",
      "execution_count": 25,
      "metadata": {
        "colab": {
          "base_uri": "https://localhost:8080/",
          "height": 488
        },
        "id": "_4IRHCNCaj8S",
        "outputId": "e16343ea-d8fc-48db-ecb9-c1a5917f7db2"
      },
      "outputs": [
        {
          "data": {
            "text/html": [
              "\n",
              "  <div id=\"df-3d259d4f-dd44-4374-9214-b33917478600\">\n",
              "    <div class=\"colab-df-container\">\n",
              "      <div>\n",
              "<style scoped>\n",
              "    .dataframe tbody tr th:only-of-type {\n",
              "        vertical-align: middle;\n",
              "    }\n",
              "\n",
              "    .dataframe tbody tr th {\n",
              "        vertical-align: top;\n",
              "    }\n",
              "\n",
              "    .dataframe thead th {\n",
              "        text-align: right;\n",
              "    }\n",
              "</style>\n",
              "<table border=\"1\" class=\"dataframe\">\n",
              "  <thead>\n",
              "    <tr style=\"text-align: right;\">\n",
              "      <th></th>\n",
              "      <th>TotalExports</th>\n",
              "      <th>Predictions</th>\n",
              "    </tr>\n",
              "  </thead>\n",
              "  <tbody>\n",
              "    <tr>\n",
              "      <th>56</th>\n",
              "      <td>2824151</td>\n",
              "      <td>2887990.25</td>\n",
              "    </tr>\n",
              "    <tr>\n",
              "      <th>57</th>\n",
              "      <td>2469089</td>\n",
              "      <td>3115367.00</td>\n",
              "    </tr>\n",
              "    <tr>\n",
              "      <th>58</th>\n",
              "      <td>3031019</td>\n",
              "      <td>3327365.00</td>\n",
              "    </tr>\n",
              "    <tr>\n",
              "      <th>59</th>\n",
              "      <td>3337253</td>\n",
              "      <td>3555276.50</td>\n",
              "    </tr>\n",
              "    <tr>\n",
              "      <th>60</th>\n",
              "      <td>3434346</td>\n",
              "      <td>3804400.00</td>\n",
              "    </tr>\n",
              "    <tr>\n",
              "      <th>61</th>\n",
              "      <td>3559686</td>\n",
              "      <td>4066684.75</td>\n",
              "    </tr>\n",
              "    <tr>\n",
              "      <th>62</th>\n",
              "      <td>3672751</td>\n",
              "      <td>4337689.50</td>\n",
              "    </tr>\n",
              "    <tr>\n",
              "      <th>63</th>\n",
              "      <td>3605279</td>\n",
              "      <td>4612084.00</td>\n",
              "    </tr>\n",
              "    <tr>\n",
              "      <th>64</th>\n",
              "      <td>3588247</td>\n",
              "      <td>4875363.50</td>\n",
              "    </tr>\n",
              "    <tr>\n",
              "      <th>65</th>\n",
              "      <td>3875898</td>\n",
              "      <td>5122046.50</td>\n",
              "    </tr>\n",
              "    <tr>\n",
              "      <th>66</th>\n",
              "      <td>4158106</td>\n",
              "      <td>5366144.00</td>\n",
              "    </tr>\n",
              "    <tr>\n",
              "      <th>67</th>\n",
              "      <td>3988685</td>\n",
              "      <td>5615549.50</td>\n",
              "    </tr>\n",
              "    <tr>\n",
              "      <th>68</th>\n",
              "      <td>3927517</td>\n",
              "      <td>5851544.50</td>\n",
              "    </tr>\n",
              "    <tr>\n",
              "      <th>69</th>\n",
              "      <td>4960656</td>\n",
              "      <td>6067733.50</td>\n",
              "    </tr>\n",
              "  </tbody>\n",
              "</table>\n",
              "</div>\n",
              "      <button class=\"colab-df-convert\" onclick=\"convertToInteractive('df-3d259d4f-dd44-4374-9214-b33917478600')\"\n",
              "              title=\"Convert this dataframe to an interactive table.\"\n",
              "              style=\"display:none;\">\n",
              "        \n",
              "  <svg xmlns=\"http://www.w3.org/2000/svg\" height=\"24px\"viewBox=\"0 0 24 24\"\n",
              "       width=\"24px\">\n",
              "    <path d=\"M0 0h24v24H0V0z\" fill=\"none\"/>\n",
              "    <path d=\"M18.56 5.44l.94 2.06.94-2.06 2.06-.94-2.06-.94-.94-2.06-.94 2.06-2.06.94zm-11 1L8.5 8.5l.94-2.06 2.06-.94-2.06-.94L8.5 2.5l-.94 2.06-2.06.94zm10 10l.94 2.06.94-2.06 2.06-.94-2.06-.94-.94-2.06-.94 2.06-2.06.94z\"/><path d=\"M17.41 7.96l-1.37-1.37c-.4-.4-.92-.59-1.43-.59-.52 0-1.04.2-1.43.59L10.3 9.45l-7.72 7.72c-.78.78-.78 2.05 0 2.83L4 21.41c.39.39.9.59 1.41.59.51 0 1.02-.2 1.41-.59l7.78-7.78 2.81-2.81c.8-.78.8-2.07 0-2.86zM5.41 20L4 18.59l7.72-7.72 1.47 1.35L5.41 20z\"/>\n",
              "  </svg>\n",
              "      </button>\n",
              "      \n",
              "  <style>\n",
              "    .colab-df-container {\n",
              "      display:flex;\n",
              "      flex-wrap:wrap;\n",
              "      gap: 12px;\n",
              "    }\n",
              "\n",
              "    .colab-df-convert {\n",
              "      background-color: #E8F0FE;\n",
              "      border: none;\n",
              "      border-radius: 50%;\n",
              "      cursor: pointer;\n",
              "      display: none;\n",
              "      fill: #1967D2;\n",
              "      height: 32px;\n",
              "      padding: 0 0 0 0;\n",
              "      width: 32px;\n",
              "    }\n",
              "\n",
              "    .colab-df-convert:hover {\n",
              "      background-color: #E2EBFA;\n",
              "      box-shadow: 0px 1px 2px rgba(60, 64, 67, 0.3), 0px 1px 3px 1px rgba(60, 64, 67, 0.15);\n",
              "      fill: #174EA6;\n",
              "    }\n",
              "\n",
              "    [theme=dark] .colab-df-convert {\n",
              "      background-color: #3B4455;\n",
              "      fill: #D2E3FC;\n",
              "    }\n",
              "\n",
              "    [theme=dark] .colab-df-convert:hover {\n",
              "      background-color: #434B5C;\n",
              "      box-shadow: 0px 1px 3px 1px rgba(0, 0, 0, 0.15);\n",
              "      filter: drop-shadow(0px 1px 2px rgba(0, 0, 0, 0.3));\n",
              "      fill: #FFFFFF;\n",
              "    }\n",
              "  </style>\n",
              "\n",
              "      <script>\n",
              "        const buttonEl =\n",
              "          document.querySelector('#df-3d259d4f-dd44-4374-9214-b33917478600 button.colab-df-convert');\n",
              "        buttonEl.style.display =\n",
              "          google.colab.kernel.accessAllowed ? 'block' : 'none';\n",
              "\n",
              "        async function convertToInteractive(key) {\n",
              "          const element = document.querySelector('#df-3d259d4f-dd44-4374-9214-b33917478600');\n",
              "          const dataTable =\n",
              "            await google.colab.kernel.invokeFunction('convertToInteractive',\n",
              "                                                     [key], {});\n",
              "          if (!dataTable) return;\n",
              "\n",
              "          const docLinkHtml = 'Like what you see? Visit the ' +\n",
              "            '<a target=\"_blank\" href=https://colab.research.google.com/notebooks/data_table.ipynb>data table notebook</a>'\n",
              "            + ' to learn more about interactive tables.';\n",
              "          element.innerHTML = '';\n",
              "          dataTable['output_type'] = 'display_data';\n",
              "          await google.colab.output.renderOutput(dataTable, element);\n",
              "          const docLink = document.createElement('div');\n",
              "          docLink.innerHTML = docLinkHtml;\n",
              "          element.appendChild(docLink);\n",
              "        }\n",
              "      </script>\n",
              "    </div>\n",
              "  </div>\n",
              "  "
            ],
            "text/plain": [
              "    TotalExports  Predictions\n",
              "56       2824151   2887990.25\n",
              "57       2469089   3115367.00\n",
              "58       3031019   3327365.00\n",
              "59       3337253   3555276.50\n",
              "60       3434346   3804400.00\n",
              "61       3559686   4066684.75\n",
              "62       3672751   4337689.50\n",
              "63       3605279   4612084.00\n",
              "64       3588247   4875363.50\n",
              "65       3875898   5122046.50\n",
              "66       4158106   5366144.00\n",
              "67       3988685   5615549.50\n",
              "68       3927517   5851544.50\n",
              "69       4960656   6067733.50"
            ]
          },
          "execution_count": 25,
          "metadata": {},
          "output_type": "execute_result"
        }
      ],
      "source": [
        "# Show the valid and predicted Exports\n",
        "valid"
      ]
    }
  ],
  "metadata": {
    "colab": {
      "provenance": []
    },
    "kernelspec": {
      "display_name": "Python 3.10.8 64-bit (microsoft store)",
      "language": "python",
      "name": "python3"
    },
    "language_info": {
      "name": "python",
      "version": "3.10.8"
    },
    "vscode": {
      "interpreter": {
        "hash": "366afddb5260eabbe9de35f01e6c268f4de64c6f7a3329dd26beca68081b4c46"
      }
    }
  },
  "nbformat": 4,
  "nbformat_minor": 0
}
